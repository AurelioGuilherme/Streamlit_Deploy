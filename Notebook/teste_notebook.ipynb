{
 "cells": [
  {
   "cell_type": "markdown",
   "metadata": {},
   "source": [
    "# ResNet - Classificação de Imagens: CIFAR 10"
   ]
  },
  {
   "cell_type": "markdown",
   "metadata": {},
   "source": [
    "## 1 - Setup"
   ]
  },
  {
   "cell_type": "markdown",
   "metadata": {},
   "source": [
    "### Install libs"
   ]
  },
  {
   "cell_type": "code",
   "execution_count": 1,
   "metadata": {},
   "outputs": [],
   "source": [
    "#!pip3 install torch torchvision torchaudio --index-url https://download.pytorch.org/whl/cu121\n",
    "#!pip install -q lightning-bolts"
   ]
  },
  {
   "cell_type": "markdown",
   "metadata": {},
   "source": [
    "### Import libs"
   ]
  },
  {
   "cell_type": "code",
   "execution_count": 2,
   "metadata": {},
   "outputs": [
    {
     "name": "stderr",
     "output_type": "stream",
     "text": [
      "c:\\Users\\aurel\\Documents\\Estudo\\Streamlit_Deploy\\venv\\Lib\\site-packages\\pl_bolts\\__init__.py:11: FutureWarning: In the future `np.object` will be defined as the corresponding NumPy scalar.\n",
      "  if not hasattr(numpy, tp_name):\n",
      "c:\\Users\\aurel\\Documents\\Estudo\\Streamlit_Deploy\\venv\\Lib\\site-packages\\pl_bolts\\__init__.py:11: FutureWarning: In the future `np.bool` will be defined as the corresponding NumPy scalar.\n",
      "  if not hasattr(numpy, tp_name):\n",
      "c:\\Users\\aurel\\Documents\\Estudo\\Streamlit_Deploy\\venv\\Lib\\site-packages\\pl_bolts\\models\\self_supervised\\amdim\\amdim_module.py:34: UnderReviewWarning: The feature generate_power_seq is currently marked under review. The compatibility with other Lightning projects is not guaranteed and API may change at any time. The API and functionality may change without warning in future releases. More details: https://lightning-bolts.readthedocs.io/en/latest/stability.html\n",
      "  \"lr_options\": generate_power_seq(LEARNING_RATE_CIFAR, 11),\n",
      "c:\\Users\\aurel\\Documents\\Estudo\\Streamlit_Deploy\\venv\\Lib\\site-packages\\pl_bolts\\models\\self_supervised\\amdim\\amdim_module.py:92: UnderReviewWarning: The feature FeatureMapContrastiveTask is currently marked under review. The compatibility with other Lightning projects is not guaranteed and API may change at any time. The API and functionality may change without warning in future releases. More details: https://lightning-bolts.readthedocs.io/en/latest/stability.html\n",
      "  contrastive_task: Union[FeatureMapContrastiveTask] = FeatureMapContrastiveTask(\"01, 02, 11\"),\n",
      "c:\\Users\\aurel\\Documents\\Estudo\\Streamlit_Deploy\\venv\\Lib\\site-packages\\pl_bolts\\losses\\self_supervised_learning.py:228: UnderReviewWarning: The feature AmdimNCELoss is currently marked under review. The compatibility with other Lightning projects is not guaranteed and API may change at any time. The API and functionality may change without warning in future releases. More details: https://lightning-bolts.readthedocs.io/en/latest/stability.html\n",
      "  self.nce_loss = AmdimNCELoss(tclip)\n"
     ]
    }
   ],
   "source": [
    "# Sistema e manipulação de arquivos\n",
    "import os\n",
    "import warnings\n",
    "warnings.filterwarnings(\"ignore\")\n",
    "\n",
    "# Manipulação e processamento de dados\n",
    "import pandas as pd\n",
    "import numpy as np\n",
    "from pl_bolts.datamodules import CIFAR10DataModule\n",
    "from pl_bolts.transforms.dataset_normalizations import cifar10_normalization\n",
    "\n",
    "# Modelagem\n",
    "import torch\n",
    "import torch.nn as nn\n",
    "import torch.nn.functional as F\n",
    "import torchvision\n",
    "import pytorch_lightning as pl\n",
    "from pytorch_lightning import LightningModule, Trainer, seed_everything\n",
    "from pytorch_lightning.callbacks import LearningRateMonitor\n",
    "from pytorch_lightning.callbacks.progress import TQDMProgressBar\n",
    "from pytorch_lightning.loggers import CSVLogger\n",
    "from torch.optim.lr_scheduler import OneCycleLR\n",
    "from torch.optim.swa_utils import AveragedModel, update_bn\n",
    "\n",
    "# Avaliação do modelo\n",
    "from torchmetrics.classification import Accuracy\n",
    "\n",
    "# Visualização de dados\n",
    "from IPython import display\n",
    "import matplotlib.pyplot as plt\n",
    "import seaborn as sns\n",
    "\n"
   ]
  },
  {
   "cell_type": "markdown",
   "metadata": {},
   "source": [
    "### Configurando a GPU para processamento"
   ]
  },
  {
   "cell_type": "code",
   "execution_count": 3,
   "metadata": {},
   "outputs": [],
   "source": [
    "processing_device = 'cuda' if torch.cuda.is_available() else 'cpu'\n",
    "torch_aval = torch.cuda.is_available()\n",
    "\n",
    "# Definindo o método de processamento.\n",
    "device = torch.device(processing_device)"
   ]
  },
  {
   "cell_type": "code",
   "execution_count": 4,
   "metadata": {},
   "outputs": [],
   "source": [
    "# Limpando a memória da GPU\n",
    "torch.cuda.empty_cache()"
   ]
  },
  {
   "cell_type": "code",
   "execution_count": 5,
   "metadata": {},
   "outputs": [],
   "source": [
    "# Informações da GPU\n",
    "#!nvidia-smi"
   ]
  },
  {
   "cell_type": "code",
   "execution_count": 6,
   "metadata": {},
   "outputs": [
    {
     "name": "stderr",
     "output_type": "stream",
     "text": [
      "Global seed set to 42\n"
     ]
    },
    {
     "data": {
      "text/plain": [
       "42"
      ]
     },
     "execution_count": 6,
     "metadata": {},
     "output_type": "execute_result"
    }
   ],
   "source": [
    "# Definindo seed global\n",
    "seed_everything(42)"
   ]
  },
  {
   "cell_type": "code",
   "execution_count": 7,
   "metadata": {},
   "outputs": [],
   "source": [
    "# Definindo a quantidade de dados do batch para GPU (quantidade de imagens)\n",
    "BATCH_SIZE = 256 \n",
    "\n",
    "# Quantidade de núcleos para paralelização em CPU\n",
    "NUM_WORKERS = int(os.cpu_count() / 2)"
   ]
  },
  {
   "cell_type": "code",
   "execution_count": 8,
   "metadata": {},
   "outputs": [
    {
     "data": {
      "text/plain": [
       "24"
      ]
     },
     "execution_count": 8,
     "metadata": {},
     "output_type": "execute_result"
    }
   ],
   "source": [
    "os.cpu_count()"
   ]
  },
  {
   "cell_type": "markdown",
   "metadata": {},
   "source": [
    "## 2 - Load data and Transform"
   ]
  },
  {
   "cell_type": "markdown",
   "metadata": {},
   "source": [
    "### Pipeline de Transformações de Dados para Treinamento do Modelo\n",
    "\n",
    "Abaixo estão as transformações de dados aplicadas no pipeline `train_data`:\n",
    "\n",
    "1. **RandomCrop(32, padding=4)**:\n",
    "   - Esta transformação realiza um recorte aleatório de uma região de tamanho 32x32 pixels em uma imagem de entrada.\n",
    "   - Um preenchimento de 4 pixels é aplicado antes do recorte para evitar perda de informação nas bordas da imagem.\n",
    "\n",
    "2. **RandomHorizontalFlip()**:\n",
    "   - Esta transformação realiza um espelhamento horizontal aleatório das imagens de entrada com uma probabilidade de 0,5.\n",
    "   - Isso aumenta a diversidade dos dados de treinamento e ajuda o modelo a aprender invariantes de orientação.\n",
    "\n",
    "3. **RandomAffine(degrees=0, translate=(0.1, 0.1))**:\n",
    "   - Esta transformação aplica uma transformação afim aleatória nas imagens de entrada.\n",
    "   - No caso presente, é aplicada apenas uma translação aleatória de até 10% da largura e altura da imagem.\n",
    "   - Isso ajuda o modelo a aprender invariantes de posição e aumenta a robustez do modelo em relação a diferentes posições dos objetos nas imagens.\n",
    "\n",
    "4. **ToTensor()**:\n",
    "   - Esta transformação converte as imagens de entrada em tensores, que são a estrutura de dados fundamental utilizada pelos modelos de CNN em PyTorch.\n",
    "   - Os valores dos pixels são normalizados para o intervalo [0, 1].\n",
    "\n",
    "5. **cifar10_normalization()**:\n",
    "   - Esta transformação aplica uma normalização específica para o conjunto de dados CIFAR-10.\n",
    "   - Os valores dos pixels são normalizados para terem média zero e desvio padrão unitário, ajudando na convergência do modelo e tornando-o mais robusto.\n",
    "\n",
    "Essas etapas de pré-processamento são essenciais para garantir que o modelo seja treinado com dados de qualidade e seja capaz de generalizar bem para novos exemplos.\n",
    "\n",
    "Os dados de teste não possui todas as etapas de transformação, somente as etapas para coverter o dado para tensor e normalização. Isto porque quero manter o dado de teste como originais para certificar-se que o modelo é capaz de predizer imagens novas.\n",
    "\n",
    "Este diferença é justamente para evitar overfitting. "
   ]
  },
  {
   "cell_type": "code",
   "execution_count": 9,
   "metadata": {},
   "outputs": [],
   "source": [
    "# Tranformação de dados Treino\n",
    "train_data_pipeline = torchvision.transforms.Compose(\n",
    "    [\n",
    "        torchvision.transforms.RandomCrop(32, padding=4),\n",
    "        torchvision.transforms.RandomHorizontalFlip(),\n",
    "        #torchvision.transforms.RandomAffine(degrees=0, translate=(0.1, 0.1)),\n",
    "        torchvision.transforms.ToTensor(),\n",
    "        cifar10_normalization()\n",
    "    ]\n",
    ")\n",
    "\n",
    "# Transformação de dados de Teste\n",
    "test_data_pipeline = torchvision.transforms.Compose(\n",
    "    [\n",
    "        torchvision.transforms.ToTensor(),\n",
    "        cifar10_normalization()\n",
    "    ]\n",
    ")"
   ]
  },
  {
   "cell_type": "code",
   "execution_count": 10,
   "metadata": {},
   "outputs": [],
   "source": [
    "# Definindo pasta para download dos dados.\n",
    "PATH_DATASETS = os.environ.get(\"PATH_DATASETS\",'../Data/cifar10')\n",
    "\n",
    "# Criando pipeline de carga de dados, transformação e separação em treino, test e validação.\n",
    "load_data = CIFAR10DataModule(data_dir = PATH_DATASETS,\n",
    "                              batch_size = BATCH_SIZE,\n",
    "                              num_workers= NUM_WORKERS,\n",
    "                              train_transforms = train_data_pipeline,\n",
    "                              test_transforms = test_data_pipeline,\n",
    "                              val_transforms = test_data_pipeline\n",
    "                              )"
   ]
  },
  {
   "cell_type": "markdown",
   "metadata": {},
   "source": [
    "## 3 - Modelos ResNet"
   ]
  },
  {
   "cell_type": "markdown",
   "metadata": {},
   "source": [
    "### Modelos pre treinados\n"
   ]
  },
  {
   "cell_type": "markdown",
   "metadata": {},
   "source": [
    "Modelos pré-treinados são redes neurais que foram treinadas em grandes conjuntos de dados, como o ImageNet, e cujos pesos foram ajustados para reconhecer uma ampla variedade de padrões em imagens naturais. Esses modelos são valiosos porque capturam representações gerais de características visuais úteis, que podem ser transferidas e reutilizadas em tarefas específicas de classificação de imagens."
   ]
  },
  {
   "cell_type": "markdown",
   "metadata": {},
   "source": [
    "#### ResNet no PyTorch\n",
    "\n",
    "O PyTorch oferece implementações dos modelos ResNet pré-treinados através do módulo torchvision.models. A biblioteca inclui várias versões da arquitetura ResNet, como ResNet-18, ResNet-34, ResNet-50, ResNet-101 e ResNet-152. O número após o nome indica o número de camadas na rede.\n",
    "\n",
    "#### Benefícios dos Modelos Pré-Treinados ResNet\n",
    "\n",
    "1. **Transfer Learning**: Os modelos pré-treinados ResNet permitem a aplicação de transfer learning, onde os pesos aprendidos em tarefas de classificação de imagens genéricas podem ser transferidos e finamente ajustados para tarefas específicas com conjuntos de dados menores.\n",
    "\n",
    "2. **Desenvolvimento Eficiente**: Ao utilizar modelos pré-treinados ResNet como base, os desenvolvedores podem economizar tempo e recursos, evitando a necessidade de treinar uma rede neural do zero em grandes conjuntos de dados.\n",
    "\n",
    "3. **Performance Aprimorada**: Os modelos ResNet são conhecidos por sua eficácia em aprender representações profundas de características visuais, o que muitas vezes se traduz em um desempenho superior em tarefas de classificação de imagens.\n",
    "\n",
    "#### Como Usar Modelos Pré-Treinados ResNet no PyTorch\n",
    "\n",
    "Para usar um modelo pré-treinado ResNet em PyTorch, basta importá-lo do módulo `torchvision.models`, instanciá-lo e carregar os pesos pré-treinados. Você pode então utilizar o modelo para inferência ou treinamento adicional em sua tarefa específica."
   ]
  },
  {
   "cell_type": "markdown",
   "metadata": {},
   "source": [
    "[Link ResNet PyTorch](https://pytorch.org/vision/main/models/resnet.html)"
   ]
  },
  {
   "cell_type": "code",
   "execution_count": 11,
   "metadata": {},
   "outputs": [],
   "source": [
    "# Módulo para carregar um modelo pré-treinado de arquitetura ResNet sem os pesos (queremos somente a arquitetura)\n",
    "def carrega_modelo_pretreinado():\n",
    "    modelo = torchvision.models.resnet18(weights = None, num_classes = 10)\n",
    "    modelo.conv1 = nn.Conv2d(3, 64, kernel_size = (3, 3), stride = (1, 1), padding = (1, 1), bias = False)\n",
    "    modelo.maxpool = nn.Identity()\n",
    "    return modelo"
   ]
  },
  {
   "cell_type": "code",
   "execution_count": 12,
   "metadata": {},
   "outputs": [],
   "source": [
    "# Classe com Arquitetura do Modelo\n",
    "class ModeloResnet(LightningModule):\n",
    "    \n",
    "    # Método construtor\n",
    "    def __init__(self, lr = 0.05):\n",
    "        super().__init__()\n",
    "        self.save_hyperparameters()\n",
    "        self.model = carrega_modelo_pretreinado()\n",
    "\n",
    "    # Método Forward\n",
    "    def forward(self, x):\n",
    "        out = self.model(x)\n",
    "        return F.log_softmax(out, dim = 1)\n",
    "\n",
    "    # Método de um passo de treinamento\n",
    "    def training_step(self, batch, batch_idx):\n",
    "        x, y = batch\n",
    "        logits = self(x)\n",
    "        loss = F.nll_loss(logits, y)\n",
    "        self.log(\"train_loss\", loss)\n",
    "        return loss\n",
    "\n",
    "    # Método de avaliação\n",
    "    def evaluate(self, batch, stage = None):\n",
    "        x, y = batch\n",
    "        logits = self(x)\n",
    "        loss = F.nll_loss(logits, y)\n",
    "        preds = torch.argmax(logits, dim = 1)\n",
    "        accuracy = Accuracy(task = \"multiclass\", num_classes = 10).to(device)\n",
    "        acc = accuracy(preds, y)\n",
    "\n",
    "        if stage:\n",
    "            self.log(f\"{stage}_loss\", loss, prog_bar = True)\n",
    "            self.log(f\"{stage}_acc\", acc, prog_bar = True)\n",
    "\n",
    "    # Método de um passo de validação\n",
    "    def validation_step(self, batch, batch_idx):\n",
    "        self.evaluate(batch, \"val\")\n",
    "\n",
    "    # Método de um passo de teste\n",
    "    def test_step(self, batch, batch_idx):\n",
    "        self.evaluate(batch, \"test\")\n",
    "\n",
    "    # Método de configuração do otimizador\n",
    "    def configure_optimizers(self):\n",
    "        \n",
    "        # Otimização SGD\n",
    "        optimizer = torch.optim.SGD(self.parameters(), \n",
    "                                    lr = self.hparams.lr, \n",
    "                                    momentum = 0.9, \n",
    "                                    weight_decay = 5e-4)\n",
    "        \n",
    "        # Passos por época\n",
    "        steps_per_epoch = 45000 // BATCH_SIZE\n",
    "        \n",
    "        # Scheduler\n",
    "        scheduler_dict = {\n",
    "            \"scheduler\": OneCycleLR(optimizer,\n",
    "                                    0.1,\n",
    "                                    epochs = self.trainer.max_epochs,\n",
    "                                    steps_per_epoch = steps_per_epoch),\n",
    "            \"interval\": \"step\",\n",
    "        }\n",
    "        \n",
    "        return {\"optimizer\": optimizer, \"lr_scheduler\": scheduler_dict}"
   ]
  },
  {
   "cell_type": "markdown",
   "metadata": {},
   "source": [
    "### Treinando o modelo"
   ]
  },
  {
   "cell_type": "code",
   "execution_count": 13,
   "metadata": {},
   "outputs": [
    {
     "name": "stderr",
     "output_type": "stream",
     "text": [
      "GPU available: True (cuda), used: True\n",
      "TPU available: False, using: 0 TPU cores\n",
      "IPU available: False, using: 0 IPUs\n",
      "HPU available: False, using: 0 HPUs\n"
     ]
    }
   ],
   "source": [
    "# Módulo de treinamento\n",
    "treinador = Trainer(max_epochs = 20,\n",
    "                    accelerator = \"auto\",\n",
    "                    devices = 1 if torch.cuda.is_available() else None,  \n",
    "                    logger = CSVLogger(save_dir = \"../models/image_recognition/saved_models/results/logs/\"),\n",
    "                    callbacks = [LearningRateMonitor(logging_interval = \"step\"), \n",
    "                                 TQDMProgressBar(refresh_rate = 10)],\n",
    ")"
   ]
  },
  {
   "cell_type": "code",
   "execution_count": 14,
   "metadata": {},
   "outputs": [],
   "source": [
    "# Cria o modelo (Objeto = Instância da Classe)\n",
    "modelo_dl = ModeloResnet(lr = 0.05)"
   ]
  },
  {
   "cell_type": "code",
   "execution_count": 18,
   "metadata": {},
   "outputs": [
    {
     "name": "stdout",
     "output_type": "stream",
     "text": [
      "Downloading https://www.cs.toronto.edu/~kriz/cifar-10-python.tar.gz to ../Data/cifar10\\cifar-10-python.tar.gz\n"
     ]
    },
    {
     "name": "stderr",
     "output_type": "stream",
     "text": [
      "100%|██████████| 170498071/170498071 [07:03<00:00, 402933.46it/s]\n"
     ]
    },
    {
     "name": "stdout",
     "output_type": "stream",
     "text": [
      "Extracting ../Data/cifar10\\cifar-10-python.tar.gz to ../Data/cifar10\n",
      "Files already downloaded and verified\n"
     ]
    },
    {
     "name": "stderr",
     "output_type": "stream",
     "text": [
      "LOCAL_RANK: 0 - CUDA_VISIBLE_DEVICES: [0]\n",
      "\n",
      "  | Name  | Type   | Params\n",
      "---------------------------------\n",
      "0 | model | ResNet | 11.2 M\n",
      "---------------------------------\n",
      "11.2 M    Trainable params\n",
      "0         Non-trainable params\n",
      "11.2 M    Total params\n",
      "44.696    Total estimated model params size (MB)\n"
     ]
    },
    {
     "name": "stdout",
     "output_type": "stream",
     "text": [
      "Epoch 0:   0%|          | 0/197 [00:00<?, ?it/s]                           "
     ]
    },
    {
     "ename": "",
     "evalue": "",
     "output_type": "error",
     "traceback": [
      "\u001b[1;31mThe Kernel crashed while executing code in the current cell or a previous cell. \n",
      "\u001b[1;31mPlease review the code in the cell(s) to identify a possible cause of the failure. \n",
      "\u001b[1;31mClick <a href='https://aka.ms/vscodeJupyterKernelCrash'>here</a> for more info. \n",
      "\u001b[1;31mView Jupyter <a href='command:jupyter.viewOutput'>log</a> for further details."
     ]
    }
   ],
   "source": [
    "# Treinamento\n",
    "treinador.fit(modelo_dl, load_data)"
   ]
  },
  {
   "cell_type": "code",
   "execution_count": null,
   "metadata": {},
   "outputs": [
    {
     "name": "stdout",
     "output_type": "stream",
     "text": [
      "Files already downloaded and verified\n",
      "Files already downloaded and verified\n"
     ]
    },
    {
     "name": "stderr",
     "output_type": "stream",
     "text": [
      "LOCAL_RANK: 0 - CUDA_VISIBLE_DEVICES: [0]\n"
     ]
    },
    {
     "data": {
      "application/vnd.jupyter.widget-view+json": {
       "model_id": "51c364c4d87a4d6da503f343b39da022",
       "version_major": 2,
       "version_minor": 0
      },
      "text/plain": [
       "Testing: 0it [00:00, ?it/s]"
      ]
     },
     "metadata": {},
     "output_type": "display_data"
    },
    {
     "data": {
      "text/html": [
       "<pre style=\"white-space:pre;overflow-x:auto;line-height:normal;font-family:Menlo,'DejaVu Sans Mono',consolas,'Courier New',monospace\">┏━━━━━━━━━━━━━━━━━━━━━━━━━━━┳━━━━━━━━━━━━━━━━━━━━━━━━━━━┓\n",
       "┃<span style=\"font-weight: bold\">   Runningstage.testing    </span>┃<span style=\"font-weight: bold\">                           </span>┃\n",
       "┃<span style=\"font-weight: bold\">          metric           </span>┃<span style=\"font-weight: bold\">       DataLoader 0        </span>┃\n",
       "┡━━━━━━━━━━━━━━━━━━━━━━━━━━━╇━━━━━━━━━━━━━━━━━━━━━━━━━━━┩\n",
       "│<span style=\"color: #008080; text-decoration-color: #008080\">         test_acc          </span>│<span style=\"color: #800080; text-decoration-color: #800080\">    0.9053000211715698     </span>│\n",
       "│<span style=\"color: #008080; text-decoration-color: #008080\">         test_loss         </span>│<span style=\"color: #800080; text-decoration-color: #800080\">    0.30113252997398376    </span>│\n",
       "└───────────────────────────┴───────────────────────────┘\n",
       "</pre>\n"
      ],
      "text/plain": [
       "┏━━━━━━━━━━━━━━━━━━━━━━━━━━━┳━━━━━━━━━━━━━━━━━━━━━━━━━━━┓\n",
       "┃\u001b[1m \u001b[0m\u001b[1m  Runningstage.testing   \u001b[0m\u001b[1m \u001b[0m┃\u001b[1m                           \u001b[0m┃\n",
       "┃\u001b[1m \u001b[0m\u001b[1m         metric          \u001b[0m\u001b[1m \u001b[0m┃\u001b[1m \u001b[0m\u001b[1m      DataLoader 0       \u001b[0m\u001b[1m \u001b[0m┃\n",
       "┡━━━━━━━━━━━━━━━━━━━━━━━━━━━╇━━━━━━━━━━━━━━━━━━━━━━━━━━━┩\n",
       "│\u001b[36m \u001b[0m\u001b[36m        test_acc         \u001b[0m\u001b[36m \u001b[0m│\u001b[35m \u001b[0m\u001b[35m   0.9053000211715698    \u001b[0m\u001b[35m \u001b[0m│\n",
       "│\u001b[36m \u001b[0m\u001b[36m        test_loss        \u001b[0m\u001b[36m \u001b[0m│\u001b[35m \u001b[0m\u001b[35m   0.30113252997398376   \u001b[0m\u001b[35m \u001b[0m│\n",
       "└───────────────────────────┴───────────────────────────┘\n"
      ]
     },
     "metadata": {},
     "output_type": "display_data"
    },
    {
     "data": {
      "text/plain": [
       "[{'test_loss': 0.30113252997398376, 'test_acc': 0.9053000211715698}]"
      ]
     },
     "execution_count": 16,
     "metadata": {},
     "output_type": "execute_result"
    }
   ],
   "source": [
    "# Avaliação do Modelo\n",
    "treinador.test(modelo_dl, datamodule = load_data)"
   ]
  },
  {
   "cell_type": "code",
   "execution_count": null,
   "metadata": {},
   "outputs": [],
   "source": [
    "# Carrega as métricas\n",
    "metricas = pd.read_csv(f\"{treinador.logger.log_dir}/metrics.csv\")\n",
    "\n",
    "# Deleta os passos individuais\n",
    "del metricas[\"step\"]\n",
    "\n",
    "# Ajusta o índice\n",
    "metricas.set_index(\"epoch\", inplace = True)"
   ]
  },
  {
   "cell_type": "code",
   "execution_count": null,
   "metadata": {},
   "outputs": [
    {
     "data": {
      "image/png": "[encoded data removed]",
      "text/plain": [
       "<Figure size 616.125x500 with 1 Axes>"
      ]
     },
     "metadata": {},
     "output_type": "display_data"
    }
   ],
   "source": [
    "# Resultado\n",
    "sns.relplot(data = metricas, kind = \"line\")\n",
    "plt.show()"
   ]
  },
  {
   "cell_type": "code",
   "execution_count": null,
   "metadata": {},
   "outputs": [],
   "source": [
    "# Salvando o modelo \n",
    "torch.save(modelo_dl.state_dict(), '../models/image_recognition/saved_models/modelo_dl.pth')"
   ]
  }
 ],
 "metadata": {
  "kernelspec": {
   "display_name": "Python 3 (ipykernel)",
   "language": "python",
   "name": "python3"
  },
  "language_info": {
   "codemirror_mode": {
    "name": "ipython",
    "version": 3
   },
   "file_extension": ".py",
   "mimetype": "text/x-python",
   "name": "python",
   "nbconvert_exporter": "python",
   "pygments_lexer": "ipython3",
   "version": "3.11.5"
  }
 },
 "nbformat": 4,
 "nbformat_minor": 2
}
